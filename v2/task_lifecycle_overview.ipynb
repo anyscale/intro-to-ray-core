{
 "cells": [
  {
   "cell_type": "markdown",
   "id": "2a544712-8b7b-43ee-9780-0baaec1d6d44",
   "metadata": {},
   "source": [
    "# Overview of a Ray task"
   ]
  },
  {
   "cell_type": "markdown",
   "id": "7a2b7dee-8121-4696-9403-0d4505b1a68f",
   "metadata": {},
   "source": [
    "## What is a Ray task ?\n",
    "\n",
    "A Ray task is a **distributed** function in the Ray framework. **Distributed** means Ray executes the function on a different process and possibly on a separate machine from where you initiate it."
   ]
  },
  {
   "cell_type": "markdown",
   "id": "763c5462-88a2-476f-a0a4-a33d993548f9",
   "metadata": {},
   "source": [
    "## When should you use Ray tasks?\n",
    "\n",
    "You should consider using a Ray task in these situations:\n",
    "\n",
    "- **Current state**:\n",
    "    - Your code is in Python, Java, or C++.\n",
    "    - Your code runs slowly because it runs sequentially\n",
    "    - Your code is complex\n",
    "        - it involves scaling functions that have different resource requirements\n",
    "        - it involves dynamically composing functions together\n",
    "           - i.e. functions depend on each other and require passing data between them\n",
    "- **Desired state**:\n",
    "    - You would like to speed up your code's execution by running it asynchronously\n",
    "    - You would like to scale your code to run on multiple machines with ease\n",
    "- **Desired path**:\n",
    "    - You don't want to perform a major code rewrite to enable this speed up\n",
    "\n",
    "Let's look at an example to make this more concrete."
   ]
  },
  {
   "cell_type": "markdown",
   "id": "ce282279-5164-4e8f-bc19-5181a860cc59",
   "metadata": {},
   "source": [
    "### Example\n",
    "\n",
    "We have a Python function conveniently named `expensive_computation`, which executes a computation that requires significant resources and time.\n",
    "\n",
    "`expensive_computation` performs the following function calls:\n",
    "1. call `perform_naive_matrix_multiplication` to perform a naive matrix multiplication\n",
    "2. call `compute_matrix_sum` to return the sum of the elements in the resulting matrix\n",
    "\n",
    "<!-- References: \n",
    "- [Matrix multiplication definition in wikipedia](https://en.wikipedia.org/wiki/Matrix_multiplication#Definition)\n",
    "-->"
   ]
  },
  {
   "cell_type": "code",
   "execution_count": null,
   "id": "76d1d48c-5655-4d11-b5e8-6fb5579769d7",
   "metadata": {},
   "outputs": [],
   "source": [
    "from itertools import product\n",
    "\n",
    "Matrix = list[list[int]]\n",
    "\n",
    "def perform_naive_matrix_multiplication(size: int) -> Matrix:\n",
    "    matrix1 = matrix2 = [[1 for _ in range(size)] for _ in range(size)]\n",
    "\n",
    "    result = [[0 for _ in range(size)] for _ in range(size)]\n",
    "    for i, j, k in product(range(size), range(size), range(size)):\n",
    "        result[i][j] += matrix1[i][k] * matrix2[k][j]\n",
    "\n",
    "    return result\n",
    "\n",
    "def compute_matrix_sum(matrix: Matrix) -> int:\n",
    "    return sum([sum([col for col in row]) for row in matrix])\n",
    "\n",
    "def expensive_computation(size: int) -> int:\n",
    "    result = perform_naive_matrix_multiplication(size)\n",
    "    return compute_matrix_sum(result)"
   ]
  },
  {
   "cell_type": "markdown",
   "id": "bd3da218-9b14-45e6-93c9-497422767aaf",
   "metadata": {},
   "source": [
    "We require running our `expensive_computation` for `n_runs`. We can do this sequentially, but it will take a long time."
   ]
  },
  {
   "cell_type": "code",
   "execution_count": null,
   "id": "d307a69b-052c-47ca-922c-1e0ed30a8daa",
   "metadata": {},
   "outputs": [],
   "source": [
    "n_runs = 10\n",
    "size = 300\n",
    "results = [expensive_computation(size) for _ in range(n_runs)]\n",
    "expected_result = size**3\n",
    "assert sum(results) == n_runs * expected_result"
   ]
  },
  {
   "cell_type": "markdown",
   "id": "da9a3d53-9fd2-469a-9b38-688dd7ddcf28",
   "metadata": {},
   "source": [
    "Below is our code execution visualized \n",
    "\n",
    "<img src=\"https://assets-training.s3.us-west-2.amazonaws.com/ray-core/task-actor-lifecycle/v2/scheduling/sequential_execution_python_func_v3.svg.svg\" width=\"600px\">"
   ]
  },
  {
   "cell_type": "markdown",
   "id": "0698cd40-ed00-4546-9945-ad66d3b48db8",
   "metadata": {},
   "source": [
    "#### Desired execution\n",
    "\n",
    "We would like, instead, to execute our Python function in parallel and distribute it over as many machines as possible\n",
    "\n",
    "<img src=\"https://assets-training.s3.us-west-2.amazonaws.com/ray-core/task-actor-lifecycle/v2/scheduling/desired_execution_python_func_v4.svg\" width=\"600px\">"
   ]
  },
  {
   "cell_type": "markdown",
   "id": "170b3724-2421-4003-bb1d-901b43e2ad09",
   "metadata": {},
   "source": [
    "In the next section, we will learn how to achieve this desired state using Ray tasks!"
   ]
  },
  {
   "cell_type": "markdown",
   "id": "9d472bf1-8b60-4fe6-bea1-b671598ebf91",
   "metadata": {},
   "source": [
    "## How do you define a Ray task ?\n",
    "\n",
    "To define a Ray task, you can use the `ray.remote` decorator in Python. When you decorate a Python function with `ray.remote`, it converts the Python function into a Ray task."
   ]
  },
  {
   "cell_type": "markdown",
   "id": "995378cd-1b10-45fb-9187-4a794e77105b",
   "metadata": {},
   "source": [
    "### Example\n",
    "Let's revisit our example and convert our `perform_naive_matrix_multiplication` function into a Ray task."
   ]
  },
  {
   "cell_type": "code",
   "execution_count": null,
   "id": "f498e34b-ae43-41f7-b2d0-54f6a9c1b8a1",
   "metadata": {},
   "outputs": [],
   "source": [
    "import ray\n",
    "\n",
    "decorator = ray.remote(num_cpus=2) # decorator to convert Python function to Ray task\n",
    "\n",
    "perform_naive_matrix_multiplication_task = decorator(perform_naive_matrix_multiplication)"
   ]
  },
  {
   "cell_type": "markdown",
   "id": "e4fdc954-33f0-4ef2-87d6-ff402df6366b",
   "metadata": {},
   "source": [
    "In this example, we also specify the task resource requirements inside the `ray.remote` decorator. Here are some more arguments you can pass the decorator to specify your task's resource requirements:\n",
    "- `num_cpus`: the quantity of CPU resources to reserve for this task. By default, tasks use 1 CPU resource\n",
    "- `num_gpus`: The quantity of GPU resources to reserve for this task.  By default, this is set based on detected GPUs.\n",
    "- `resources`: The quantity of various custom resources to reserve for this task (e.g. think of Google `TPU` or AWS accelerators). By default, tasks don't use any custom resources.\n",
    "\n",
    "If we had a \"proper\" matrix multiplication implementation and we wanted to speed it up on a GPU we can. For now, our example will have to remain simple for educational purposes."
   ]
  },
  {
   "cell_type": "markdown",
   "id": "68babfba-133b-4725-8f5a-65a746daeb03",
   "metadata": {},
   "source": [
    "## How do you submit a Ray task ?\n",
    "\n",
    "To submit a Ray task, you can use the `.remote` method instead of calling the task directly. The `.remote` method accepts the same arguments as the original function."
   ]
  },
  {
   "cell_type": "markdown",
   "id": "998b6316-0494-496a-b0b5-cb3935db7bd9",
   "metadata": {},
   "source": [
    "### Example\n",
    "\n",
    "Let's submit our `perform_naive_matrix_multiplication` task. \n",
    "\n",
    "- The `.remote` method is a non-blocking method that immediately returns an object reference.\n",
    "- An object reference is a placeholder reference for the value that will be returned by the Ray task (think of it as a future).\n",
    "- The value is named an object given Ray makes use of a fast and efficient object store for passing data dependencies between tasks."
   ]
  },
  {
   "cell_type": "code",
   "execution_count": null,
   "id": "8d5537fa-68b8-4ca8-83c6-53e9978ef9d9",
   "metadata": {},
   "outputs": [],
   "source": [
    "size = 100\n",
    "object_ref = perform_naive_matrix_multiplication_task.remote(size=size)\n",
    "object_ref"
   ]
  },
  {
   "cell_type": "markdown",
   "id": "aca9ecc2-0492-48e9-9eca-fbb91bede633",
   "metadata": {},
   "source": [
    "This will return something like `ObjectRef(359ec6ce30d3ca2dffffffffffffffffffffffff0100000001000000)`"
   ]
  },
  {
   "cell_type": "markdown",
   "id": "4e8791b6-22f6-4d98-a7cf-805979423c51",
   "metadata": {},
   "source": [
    "## How do you fetch the Ray task results ?\n",
    "\n",
    "Use `ray.get(object_ref)` to wait for a given object's value to be ready.\n",
    "\n",
    "### Example"
   ]
  },
  {
   "cell_type": "markdown",
   "id": "2c512438-f4d0-4aac-8f59-7aeeff6f8c5a",
   "metadata": {},
   "source": [
    "We use `ray.get` to fetch the resulting object value from our object_ref"
   ]
  },
  {
   "cell_type": "code",
   "execution_count": null,
   "id": "92ddb38e-588d-4480-ba04-0468f935586e",
   "metadata": {},
   "outputs": [],
   "source": [
    "object_value = ray.get(object_ref)\n",
    "assert len(object_value[0]) == size"
   ]
  },
  {
   "cell_type": "markdown",
   "id": "b3d6e28c-4397-41bb-aade-aff710bd97f1",
   "metadata": {},
   "source": [
    "## How do you compose Ray tasks together ? "
   ]
  },
  {
   "cell_type": "markdown",
   "id": "835f761a-300e-417f-a24a-4ec33b990a1f",
   "metadata": {},
   "source": [
    "You can call tasks within another task in Ray without any additional considerations"
   ]
  },
  {
   "cell_type": "markdown",
   "id": "9172f0c4-9212-4112-be38-e3c59895634c",
   "metadata": {},
   "source": [
    "### Example \n",
    "\n",
    "Let's revisit our initial intention of scaling `expensive_computation`. In this case we want our `expensive_computation` task to:\n",
    "- Submit the `perform_naive_matrix_multiplication` task and get back an object reference `result_obj_ref` to the result of the matrix multiplication.\n",
    "- Pass the `result_obj_ref` to the `compute_matrix_sum` task\n",
    "    - Conveniently Ray will resolve the underlying result of an object reference when passing data dependencies between tasks.\n",
    "- Use `ray.get` to wait for the resulting object of the `compute_matrix_sum` task and return it"
   ]
  },
  {
   "cell_type": "code",
   "execution_count": null,
   "id": "cdc1479f-3460-4f7c-aa55-81ef2bd9b756",
   "metadata": {},
   "outputs": [],
   "source": [
    "@ray.remote \n",
    "def compute_matrix_sum(matrix: Matrix) -> int:\n",
    "    return sum([sum([col for col in row]) for row in matrix])\n",
    "\n",
    "@ray.remote\n",
    "def expensive_computation(size: int) -> int:\n",
    "    result_obj_ref = perform_naive_matrix_multiplication_task.remote(size)\n",
    "    sum_obj_ref = compute_matrix_sum.remote(result_obj_ref)\n",
    "    return ray.get(sum_obj_ref)"
   ]
  },
  {
   "cell_type": "markdown",
   "id": "5bc8ae54-77a5-4bfa-8c18-77007930404b",
   "metadata": {},
   "source": [
    "Now we will:\n",
    "- Submit our `expensive_computation` task for `n_runs` by calling `expensive_computation.remote`\n",
    "- Fetch the results by calling `ray.get(object_refs)`\n",
    "    - Note that when `ray.get` is called against a \"sequence of object references\", it will block until the last object is available."
   ]
  },
  {
   "cell_type": "code",
   "execution_count": null,
   "id": "8ce16e7d-822c-4362-9477-32b6e8a72ebe",
   "metadata": {},
   "outputs": [],
   "source": [
    "n_runs = 10\n",
    "size = 300\n",
    "object_refs = [expensive_computation.remote(size) for _ in range(n_runs)]\n",
    "results = ray.get(object_refs)\n",
    "expected_result = size**3\n",
    "assert sum(results) == n_runs * expected_result"
   ]
  },
  {
   "cell_type": "markdown",
   "id": "b12523c1-6506-45fe-bcdf-f751970551ad",
   "metadata": {},
   "source": [
    "Here is our execution visualized using Ray tasks. Do you spot the resemblance with our desired execution diagram?\n",
    "\n",
    "<img src=\"https://assets-training.s3.us-west-2.amazonaws.com/ray-core/task-actor-lifecycle/v2/scheduling/overview_distributed_ray_task_v3.svg\" width=\"700px\">"
   ]
  },
  {
   "cell_type": "markdown",
   "id": "ecf3b1b2-ce4b-4271-a4eb-49282610694c",
   "metadata": {},
   "source": [
    "## How do you scale to multiple machines?\n",
    "\n",
    "While Ray works out of the box on your laptop, to scale Ray applications on multiple nodes you must first *deploy a Ray cluster*.\n",
    "\n",
    "A Ray cluster is a set of worker nodes connected to a common Ray head node. Ray clusters can be fixed-size, or they may autoscale up and down according to the resources requested by applications running on the cluster.\n",
    "\n",
    "### Where can I deploy Ray clusters?\n",
    "Ray provides native cluster deployment support on the following technology stacks:\n",
    "\n",
    "- On [AWS and GCP](https://docs.ray.io/en/latest/cluster/vms/index.html#cloud-vm-index). Community-supported Azure, Aliyun and vSphere integrations also exist.\n",
    "- On Kubernetes via the officially supported [KubeRay project](https://docs.ray.io/en/latest/cluster/kubernetes/index.html#kuberay-index)\n",
    "  "
   ]
  },
  {
   "cell_type": "markdown",
   "id": "229965b8-4e2b-4718-97c2-5b27bcf13401",
   "metadata": {},
   "source": [
    "# Understanding Ray task execution\n",
    "\n",
    "Let's explore in more detail how the `expensive_computation` task is executed.\n",
    "\n",
    "Here it is laid out in steps:\n",
    "\n",
    "1. `expensive_computation.remote(...)` is called with its inputs\n",
    "2. An `expensive_computation` task is submitted for scheduling on the Ray cluster\n",
    "3. Ray will autoscale the cluster to meet the the task resource requirements\n",
    "4. Ray will schedule the task to run on a worker\n",
    "5. The worker process will execute the task\n",
    "\n",
    "The task will output a resulting object which can be fetched using `ray.get`"
   ]
  },
  {
   "cell_type": "markdown",
   "id": "01b278f8-a8f3-4859-a249-b21bf9bd70ca",
   "metadata": {},
   "source": [
    "The above steps are visualized in this diagram\n",
    "\n",
    "<img src=\"https://assets-training.s3.us-west-2.amazonaws.com/ray-core/task-actor-lifecycle/v2/scheduling/overview_detailed_execution_ray_task_v3.svg\" width=\"800px\">"
   ]
  },
  {
   "cell_type": "code",
   "execution_count": null,
   "id": "0de6823b-910e-41fc-a539-a36a4a1602da",
   "metadata": {},
   "outputs": [],
   "source": []
  }
 ],
 "metadata": {
  "kernelspec": {
   "display_name": "Python 3 (ipykernel)",
   "language": "python",
   "name": "python3"
  },
  "language_info": {
   "codemirror_mode": {
    "name": "ipython",
    "version": 3
   },
   "file_extension": ".py",
   "mimetype": "text/x-python",
   "name": "python",
   "nbconvert_exporter": "python",
   "pygments_lexer": "ipython3",
   "version": "3.9.6"
  }
 },
 "nbformat": 4,
 "nbformat_minor": 5
}
