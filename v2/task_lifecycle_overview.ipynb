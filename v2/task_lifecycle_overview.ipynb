{
 "cells": [
  {
   "cell_type": "markdown",
   "id": "2a544712-8b7b-43ee-9780-0baaec1d6d44",
   "metadata": {},
   "source": [
    "# Overview of Ray Tasks"
   ]
  },
  {
   "cell_type": "markdown",
   "id": "7a2b7dee-8121-4696-9403-0d4505b1a68f",
   "metadata": {},
   "source": [
    "## What is a ray task ?\n",
    "\n",
    "A ray task is a distributed function in the Ray framework. 'Distributed' means Ray executes the function on a different process and possibly on a separate machine from where you initiate it."
   ]
  },
  {
   "cell_type": "markdown",
   "id": "763c5462-88a2-476f-a0a4-a33d993548f9",
   "metadata": {},
   "source": [
    "## When to Use Ray Tasks?\n",
    "\n",
    "You should consider using a ray task in these situations:\n",
    "\n",
    "- Your code is in Python, Java, or C++ and functions correctly.\n",
    "- Your code runs slowly because it runs sequentially\n",
    "- You don't want to rewrite your code to enable this speed up\n",
    "- You would like to speed up its execution by running it asynchronously\n",
    "- You aim to scale the code to operate on multiple machines with ease.\n",
    "\n",
    "Let's look at a code example to make this more concrete."
   ]
  },
  {
   "cell_type": "markdown",
   "id": "ce282279-5164-4e8f-bc19-5181a860cc59",
   "metadata": {},
   "source": [
    "### Example\n",
    "\n",
    "We have a Python function conveniently named `expensive_computation`, which executes a computation that requires significant resources and time.\n",
    "\n",
    "* `expensive_computation` performs a naive matrix multiplication and returns the count of elements in the resulting matrix."
   ]
  },
  {
   "cell_type": "code",
   "execution_count": null,
   "id": "76d1d48c-5655-4d11-b5e8-6fb5579769d7",
   "metadata": {},
   "outputs": [],
   "source": [
    "from itertools import product\n",
    "\n",
    "Matrix = list[list[int]]\n",
    "\n",
    "def perform_naive_matrix_multiplication(size: int) -> Matrix:\n",
    "    matrix1 = matrix2 = [[1 for _ in range(size)] for _ in range(size)]\n",
    "\n",
    "    result = [[0 for _ in range(size)] for _ in range(size)]\n",
    "    for i, j, k in product(range(size), range(size), range(size)):\n",
    "        result[i][j] += matrix1[i][k] * matrix2[k][j]\n",
    "\n",
    "    return result\n",
    "\n",
    "def expensive_computation(size: int) -> int:\n",
    "    result = perform_naive_matrix_multiplication(size)\n",
    "    n_rows, n_cols = len(result), len(result[0])\n",
    "    num_elements_in_matrix = n_rows * n_cols\n",
    "    return num_elements_in_matrix"
   ]
  },
  {
   "cell_type": "markdown",
   "id": "bd3da218-9b14-45e6-93c9-497422767aaf",
   "metadata": {},
   "source": [
    "We require running our matrix multiplication for `n_runs` and then summing the results. We can do this sequentially, but it will take a long time."
   ]
  },
  {
   "cell_type": "code",
   "execution_count": null,
   "id": "d307a69b-052c-47ca-922c-1e0ed30a8daa",
   "metadata": {},
   "outputs": [],
   "source": [
    "n_runs = 10\n",
    "size = 300\n",
    "results = [expensive_computation(size) for _ in range(n_runs)]\n",
    "assert sum(results) == n_runs * size * size"
   ]
  },
  {
   "cell_type": "markdown",
   "id": "da9a3d53-9fd2-469a-9b38-688dd7ddcf28",
   "metadata": {},
   "source": [
    "Below is our code execution visualized \n",
    "\n",
    "<img src=\"https://assets-training.s3.us-west-2.amazonaws.com/ray-core/task-actor-lifecycle/v2/overview/sequential_execution_python_func.svg\" width=\"800px\">"
   ]
  },
  {
   "cell_type": "markdown",
   "id": "0698cd40-ed00-4546-9945-ad66d3b48db8",
   "metadata": {},
   "source": [
    "#### Desired execution\n",
    "\n",
    "We would like, instead, to execute our python function in parallel and distribute it over as many machines as possible\n",
    "\n",
    "<img src=\"https://assets-training.s3.us-west-2.amazonaws.com/ray-core/task-actor-lifecycle/v2/overview/desired_execution_python_func.svg\" width=\"800px\">\n",
    "\n",
    "Let's see how we can get to this desired using Ray tasks!"
   ]
  },
  {
   "cell_type": "markdown",
   "id": "9d472bf1-8b60-4fe6-bea1-b671598ebf91",
   "metadata": {},
   "source": [
    "## How to define a ray task ?\n",
    "\n",
    "To define a Ray task, you can use the `@ray.remote` decorator in Python. When you decorate a Python function with `@ray.remote`, it converts the function into a Ray task.\n",
    "\n",
    "Let's revisit our example and convert our `expensive_computation` function into a Ray task."
   ]
  },
  {
   "cell_type": "code",
   "execution_count": 1,
   "id": "f498e34b-ae43-41f7-b2d0-54f6a9c1b8a1",
   "metadata": {},
   "outputs": [],
   "source": [
    "import ray\n",
    "\n",
    "\n",
    "@ray.remote  # decorator to convert python function to ray task\n",
    "def expensive_computation(size):\n",
    "    result = perform_naive_matrix_multiplication(size)\n",
    "    n_rows, n_cols = len(result), len(result[0])\n",
    "    num_elements_in_matrix = n_rows * n_cols\n",
    "    return num_elements_in_matrix"
   ]
  },
  {
   "cell_type": "markdown",
   "id": "68babfba-133b-4725-8f5a-65a746daeb03",
   "metadata": {},
   "source": [
    "### How to run a ray task ?\n",
    "\n",
    "To run a Ray task, you can use the `.remote` method instead of calling the function directly. The `.remote` method takes the same arguments as the original function.\n",
    "\n",
    "The `.remote` method is a non-blocking method that returns a future object. A future object is a placeholder for the value that will be returned by the Ray task."
   ]
  },
  {
   "cell_type": "code",
   "execution_count": null,
   "id": "4ffd0445-c9df-4d67-9231-8a24e30fbbd3",
   "metadata": {},
   "outputs": [],
   "source": [
    "# submit n_run ray tasks to a ray cluster\n",
    "# and keep a reference to the task futures\n",
    "futures = [expensive_computation.remote(size) for _ in range(n_runs)]"
   ]
  },
  {
   "cell_type": "markdown",
   "id": "4e8791b6-22f6-4d98-a7cf-805979423c51",
   "metadata": {},
   "source": [
    "### How to fetch the ray task results ?\n",
    "\n",
    "We use the returned `futures` reference to fetch the result of the function by calling `ray.get(futures)` \n",
    "\n",
    "`ray.get` will block until all tasks finish executing and will return the result. "
   ]
  },
  {
   "cell_type": "code",
   "execution_count": null,
   "id": "4f1237e9-3802-46d5-ae04-27625696cfb3",
   "metadata": {},
   "outputs": [],
   "source": [
    "# wait for all tasks to complete and get the resulting objects\n",
    "# results are returned in the same order as submitted\n",
    "results = ray.get(futures)"
   ]
  },
  {
   "cell_type": "code",
   "execution_count": null,
   "id": "dd4fb463-4468-4ef2-89e7-e608d4023403",
   "metadata": {},
   "outputs": [],
   "source": [
    "# confirm that we got the right result\n",
    "assert sum(results) == n_runs * size * size"
   ]
  },
  {
   "cell_type": "markdown",
   "id": "b12523c1-6506-45fe-bcdf-f751970551ad",
   "metadata": {},
   "source": [
    "Here is our execution visualized using Ray tasks. Do you spot the resemblance with our desired execution diagram?\n",
    "\n",
    "<img src=\"https://assets-training.s3.us-west-2.amazonaws.com/ray-core/task-actor-lifecycle/v2/overview/overview_distributed_ray_task.svg\" width=\"800px\">"
   ]
  },
  {
   "cell_type": "markdown",
   "id": "229965b8-4e2b-4718-97c2-5b27bcf13401",
   "metadata": {},
   "source": [
    "# Understanding Ray Task Execution\n",
    "\n",
    "Let's explore in more detail how the `expensive_computation` function executes in parallel.\n",
    "\n",
    "Key Points to Note:\n",
    "- **Ray Tasks** are executed within a **Ray Cluster** as part of a **Ray Job**.\n",
    "   - A **Ray Job** can be thought of as a collection of tasks, objects, and actors that originate from the same runtime environment.\n",
    "- **Ray Worker Processes** are the processes responsible for executing the tasks.\n",
    "- In Ray, futures are referred to as `ObjectRef`s, short for **Object References**.\n",
    "- Results are stored as **Objects** in the Ray framework.\n",
    "- The function `ray.get(future)` is used to wait for and retrieve the **Object Value** from a given **Object Reference**."
   ]
  },
  {
   "cell_type": "markdown",
   "id": "01b278f8-a8f3-4859-a249-b21bf9bd70ca",
   "metadata": {},
   "source": [
    "Here is a more detailed view of the parallel execution\n",
    "\n",
    "<img src=\"https://assets-training.s3.us-west-2.amazonaws.com/ray-core/task-actor-lifecycle/v2/overview/overview_detailed_execution_ray_task.svg\" width=\"1000px\">"
   ]
  },
  {
   "cell_type": "markdown",
   "id": "e15deb38-8883-4f08-87ea-3d4419f1db5a",
   "metadata": {},
   "source": [
    "We submit the task and inspect the future object reference - we see that it is a ray.ObjectRef with a given id"
   ]
  },
  {
   "cell_type": "code",
   "execution_count": null,
   "id": "8d5537fa-68b8-4ca8-83c6-53e9978ef9d9",
   "metadata": {},
   "outputs": [],
   "source": [
    "future_object_ref = expensive_computation.remote(size=600)\n",
    "future_object_ref"
   ]
  },
  {
   "cell_type": "markdown",
   "id": "aca9ecc2-0492-48e9-9eca-fbb91bede633",
   "metadata": {},
   "source": [
    "This will return something like `ObjectRef(359ec6ce30d3ca2dffffffffffffffffffffffff0100000001000000)`"
   ]
  },
  {
   "cell_type": "markdown",
   "id": "6d422e8c-8f06-4b35-bc79-40a6fb06f06a",
   "metadata": {},
   "source": [
    "## What are the state-transitions of a task ?"
   ]
  },
  {
   "cell_type": "markdown",
   "id": "54d8d215-94ea-4b60-928d-537c1f096416",
   "metadata": {},
   "source": [
    "We now request the cluster state to see our task running and transitioning through some of its states"
   ]
  },
  {
   "cell_type": "code",
   "execution_count": null,
   "id": "9d799f12-eb21-4fe6-9035-f581a4b4e2c1",
   "metadata": {},
   "outputs": [],
   "source": [
    "from ray.util.state import get_task\n",
    "import time\n",
    "\n",
    "start_time = time.time()\n",
    "duration = 30\n",
    "while time.time() - start_time < duration:\n",
    "    time.sleep(5)\n",
    "    task = get_task(id=future_object_ref.task_id().hex())\n",
    "    print(\n",
    "        f\"task {task.name} is in state={task.state} \"\n",
    "        f\"running on worker {task.worker_id[:8]} as part \"\n",
    "        f\"of Job ID {task.job_id}\"\n",
    "    )"
   ]
  },
  {
   "cell_type": "markdown",
   "id": "8e92b7c2-7707-4072-a82f-992cc6d621e2",
   "metadata": {},
   "source": [
    "This will print out something like \n",
    "\n",
    "```text\n",
    "task expensive_computation is in state=RUNNING running on worker a241e616 as part of Job ID 01000000\n",
    "task expensive_computation is in state=RUNNING running on worker a241e616 as part of Job ID 01000000\n",
    "task expensive_computation is in state=RUNNING running on worker a241e616 as part of Job ID 01000000\n",
    "task expensive_computation is in state=FINISHED running on worker a241e616 as part of Job ID 01000000\n",
    "task expensive_computation is in state=FINISHED running on worker a241e616 as part of Job ID 01000000\n",
    "task expensive_computation is in state=FINISHED running on worker a241e616 as part of Job ID 01000000\n",
    "```"
   ]
  },
  {
   "cell_type": "markdown",
   "id": "2c512438-f4d0-4aac-8f59-7aeeff6f8c5a",
   "metadata": {},
   "source": [
    "Finally, we use `ray.get` to fetch the resulting object value. It should execute immediately given the task is in a finished state"
   ]
  },
  {
   "cell_type": "code",
   "execution_count": null,
   "id": "92ddb38e-588d-4480-ba04-0468f935586e",
   "metadata": {},
   "outputs": [],
   "source": [
    "object_value = ray.get(future_object_ref)\n",
    "assert object_value == 360000"
   ]
  },
  {
   "cell_type": "markdown",
   "id": "f0a1958c-34e0-4849-a94f-96e1d8b9c249",
   "metadata": {},
   "source": [
    "In general this diagram below visualizes the normal order of state transitions that a task is expected to go through\n",
    "\n",
    "<img src=\"https://assets-training.s3.us-west-2.amazonaws.com/ray-core/task-actor-lifecycle/v2/overview/state_transition.svg\" width=\"800px\">\n",
    "\n",
    "Note that given the PENDING and SUBMITTED_TO_WORKER states are very fast, they were not captured in our logs above\n",
    "\n",
    "<!-- References:\n",
    "- See proto definition of [TaskStatus](https://github.com/ray-project/ray/blob/releases/2.8.1/src/ray/protobuf/common.proto#L724-L740) -->"
   ]
  },
  {
   "cell_type": "code",
   "execution_count": null,
   "id": "5ede00af-8a60-4634-9903-737b61e175df",
   "metadata": {},
   "outputs": [],
   "source": []
  }
 ],
 "metadata": {
  "kernelspec": {
   "display_name": "Python 3 (ipykernel)",
   "language": "python",
   "name": "python3"
  },
  "language_info": {
   "codemirror_mode": {
    "name": "ipython",
    "version": 3
   },
   "file_extension": ".py",
   "mimetype": "text/x-python",
   "name": "python",
   "nbconvert_exporter": "python",
   "pygments_lexer": "ipython3",
   "version": "3.9.6"
  }
 },
 "nbformat": 4,
 "nbformat_minor": 5
}
